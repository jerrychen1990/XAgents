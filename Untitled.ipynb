{
 "cells": [
  {
   "cell_type": "code",
   "execution_count": 2,
   "id": "c2d04e95-2cbc-452c-9a3f-b63f1269251b",
   "metadata": {
    "execution": {
     "iopub.execute_input": "2023-12-08T02:15:21.030998Z",
     "iopub.status.busy": "2023-12-08T02:15:21.029797Z",
     "iopub.status.idle": "2023-12-08T02:15:21.330748Z",
     "shell.execute_reply": "2023-12-08T02:15:21.330268Z",
     "shell.execute_reply.started": "2023-12-08T02:15:21.030948Z"
    },
    "tags": []
   },
   "outputs": [
    {
     "name": "stderr",
     "output_type": "stream",
     "text": [
      "2023-12-08 10:15:21 [INFO][logs.py:18]:create logger with env='local', name='/Users/chenhao/miniconda3/envs/xagent/lib/python3.10/site-packages/agit/utils.py'\n",
      "2023-12-08 10:15:21 [INFO][logs.py:18]:create logger with env='local', name='/Users/chenhao/miniconda3/envs/xagent/lib/python3.10/site-packages/agit/backend/openai_bk.py'\n",
      "2023-12-08 10:15:21 [INFO][logs.py:18]:create logger with env='local', name='/Users/chenhao/miniconda3/envs/xagent/lib/python3.10/site-packages/agit/backend/zhipuai_bk.py'\n",
      "2023-12-08 10:15:21 [INFO][logs.py:18]:create logger with env='dev', name='/Users/chenhao/workspace/XAgents/xagents/model/zhipu.py'\n",
      "2023-12-08 10:15:21 [INFO][logs.py:18]:create logger with env='dev', name='/Users/chenhao/workspace/XAgents/xagents/agent/xagent.py'\n"
     ]
    }
   ],
   "source": [
    "from snippets import *\n",
    "from xagents.agent import XAgent"
   ]
  },
  {
   "cell_type": "code",
   "execution_count": 26,
   "id": "9bc60f9c-f5be-4714-b204-45906e0780f6",
   "metadata": {
    "execution": {
     "iopub.execute_input": "2023-12-08T02:24:29.170040Z",
     "iopub.status.busy": "2023-12-08T02:24:29.169271Z",
     "iopub.status.idle": "2023-12-08T02:24:29.197818Z",
     "shell.execute_reply": "2023-12-08T02:24:29.197076Z",
     "shell.execute_reply.started": "2023-12-08T02:24:29.170002Z"
    },
    "tags": []
   },
   "outputs": [],
   "source": [
    "llm_config = dict(model_cls=\"GLM\", name=\"glm\", version=\"chatglm_turbo\")\n",
    "memory_config = dict(size=10)\n",
    "agent = XAgent(name=\"xagent\", llm_config=llm_config, memory_config=memory_config)\n",
    "    "
   ]
  },
  {
   "cell_type": "code",
   "execution_count": 27,
   "id": "0bf41fc7-899c-4f5e-84c7-39a0fb698509",
   "metadata": {
    "execution": {
     "iopub.execute_input": "2023-12-08T02:24:29.663360Z",
     "iopub.status.busy": "2023-12-08T02:24:29.662366Z",
     "iopub.status.idle": "2023-12-08T02:24:29.692065Z",
     "shell.execute_reply": "2023-12-08T02:24:29.691274Z",
     "shell.execute_reply.started": "2023-12-08T02:24:29.663301Z"
    },
    "tags": []
   },
   "outputs": [],
   "source": [
    "resp = agent.chat(message=\"推荐三首歌\", stream=True)"
   ]
  },
  {
   "cell_type": "code",
   "execution_count": 28,
   "id": "55c520a1-1407-4ad1-b637-56c4e874924f",
   "metadata": {
    "execution": {
     "iopub.execute_input": "2023-12-08T02:24:29.959130Z",
     "iopub.status.busy": "2023-12-08T02:24:29.958220Z",
     "iopub.status.idle": "2023-12-08T02:24:38.438453Z",
     "shell.execute_reply": "2023-12-08T02:24:38.437638Z",
     "shell.execute_reply.started": "2023-12-08T02:24:29.959070Z"
    },
    "tags": []
   },
   "outputs": [
    {
     "name": "stderr",
     "output_type": "stream",
     "text": [
      "2023-12-08 10:24:29 [INFO][zhipu.py:23]:<class 'xagents.model.zhipu.GLM'> generating resp with prompt='推荐三首歌', history=[]\n"
     ]
    },
    {
     "name": "stdout",
     "output_type": "stream",
     "text": [
      " 当然可以！这里为您推荐三首不同风格的歌：\n",
      "\n",
      "1. 《平凡之路》 - 朴树：这首歌曲是一首深入人心的作品，歌词简单却感人至深，讲述了平凡人生活的坚韧和执着。\n",
      "\n",
      "2. 《遥远的她》 - 张学友：这是一首经典的粤语歌曲，歌手张学友用高亢激昂的嗓音唤起了人们对爱情的无尽感慨。\n",
      "\n",
      "3. 《岁月神偷》 - 金玟岐：这首歌曲旋律优美，歌词意境深远，讲述了时光荏苒中，岁月对我们的悄然改变以及珍贵回忆。\n",
      "\n",
      "希望这三首歌能给您带来不同的感受和共鸣"
     ]
    },
    {
     "name": "stderr",
     "output_type": "stream",
     "text": [
      "2023-12-08 10:24:38 [INFO][xagent.py:42]:remembering role='user', message='推荐三首歌'\n",
      "2023-12-08 10:24:38 [INFO][xagent.py:42]:remembering role='assistant', message=' 当然可以！这里为您推荐三首不同风格的歌：\\n\\n1. 《平凡之路》 - 朴树：这首歌曲是一首深入人心的作品，歌词简单却感人至深，讲述了平凡人生活的坚韧和执着。\\n\\n2. 《遥远的她》 - 张学友：这是一首经典的粤语歌曲，歌手张学友用高亢激昂的嗓音唤起了人们对爱情的无尽感慨。\\n\\n3. 《岁月神偷》 - 金玟岐：这首歌曲旋律优美，歌词意境深远，讲述了时光荏苒中，岁月对我们的悄然改变以及珍贵回忆。\\n\\n希望这三首歌能给您带来不同的感受和共鸣！'\n"
     ]
    },
    {
     "name": "stdout",
     "output_type": "stream",
     "text": [
      "！"
     ]
    }
   ],
   "source": [
    "acc=\"\"\n",
    "for item in resp:\n",
    "    print(item, end=\"\")"
   ]
  },
  {
   "cell_type": "code",
   "execution_count": 32,
   "id": "6d9f374b-79f3-4676-93e5-ede9cb7b68a0",
   "metadata": {
    "execution": {
     "iopub.execute_input": "2023-12-08T02:31:06.060668Z",
     "iopub.status.busy": "2023-12-08T02:31:06.059678Z",
     "iopub.status.idle": "2023-12-08T02:31:08.819227Z",
     "shell.execute_reply": "2023-12-08T02:31:08.812771Z",
     "shell.execute_reply.started": "2023-12-08T02:31:06.060550Z"
    },
    "tags": []
   },
   "outputs": [
    {
     "data": {
      "text/plain": [
       "'《辛德勒的名单》是由史蒂文·斯皮尔伯格导演的。'"
      ]
     },
     "execution_count": 32,
     "metadata": {},
     "output_type": "execute_result"
    }
   ],
   "source": [
    "import logging\n",
    "from agit.backend import call_llm_api\n",
    "resp =call_llm_api(prompt = \"其中的第二部是谁导演的\", history=[{'role': 'user', 'content': '推荐三部电影'}, {'role': 'assistant', 'content': ' 以下是我为您推荐的三部电影，涵盖了不同类型和题材，希望您会喜欢：\\n\\n1. 《肖申克的救赎》：这是一部励志剧情片，讲述了一个被冤枉入狱的银行家如何在监狱中经历磨难，通过坚持不懈的努力和智慧最终获得自由的故事。这部电影深刻地探讨了希望、友谊和勇气等主题。\\n\\n2. 《辛德勒的名单》：这部是一部基于真实故事的传记剧情片，描述了德国商人奥斯卡·辛德勒如何在二战期间拯救犹太人的故事。影片通过黑白画面展现了战争的残酷和人性的光辉，是一部令人深感震撼的作品。\\n\\n3. 《蝙蝠侠前传2：黑暗骑士》：这是一部超级英雄题材的电影，讲述了蝙蝠侠和反派角色小丑之间的斗争。影片在动作场面和角色塑造方面表现出色，同时探讨了正义、道德和牺牲等深层次的主题。\\n\\n这三部电影都在不同程度上展现了人性的力量和故事的魅力，希望您会喜欢。'}], model=\"chatglm3_130b_int8\", stream=False,  level=logging.DEBUG)\n",
    "\n",
    "\n",
    "resp\n"
   ]
  },
  {
   "cell_type": "code",
   "execution_count": null,
   "id": "5d50813b-c0ff-4968-b45c-2c3ddb9d4d99",
   "metadata": {},
   "outputs": [],
   "source": []
  }
 ],
 "metadata": {
  "kernelspec": {
   "display_name": "xagent",
   "language": "python",
   "name": "xagent"
  },
  "language_info": {
   "codemirror_mode": {
    "name": "ipython",
    "version": 3
   },
   "file_extension": ".py",
   "mimetype": "text/x-python",
   "name": "python",
   "nbconvert_exporter": "python",
   "pygments_lexer": "ipython3",
   "version": "3.10.12"
  }
 },
 "nbformat": 4,
 "nbformat_minor": 5
}
